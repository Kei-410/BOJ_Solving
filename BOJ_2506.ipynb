{
  "nbformat": 4,
  "nbformat_minor": 0,
  "metadata": {
    "colab": {
      "provenance": []
    },
    "kernelspec": {
      "name": "python3",
      "display_name": "Python 3"
    },
    "language_info": {
      "name": "python"
    }
  },
  "cells": [
    {
      "cell_type": "code",
      "execution_count": 2,
      "metadata": {
        "colab": {
          "base_uri": "https://localhost:8080/"
        },
        "id": "Qqhn5mTDSUqt",
        "outputId": "53e05157-b113-41b9-f6b0-110182fb5259"
      },
      "outputs": [
        {
          "output_type": "stream",
          "name": "stdout",
          "text": [
            "10\n",
            "1 0 1 1 1 0 0 1 1 0\n",
            "10\n"
          ]
        }
      ],
      "source": [
        "n = int(input())\n",
        "cor = list(map(int,input().split()))\n",
        "score = 1\n",
        "sum = 0\n",
        "for i in range(n):\n",
        "    if cor[i] == 1:\n",
        "        sum += score\n",
        "        score += 1\n",
        "    elif cor[i] == 0:\n",
        "        score = 1\n",
        "print(sum)"
      ]
    }
  ]
}